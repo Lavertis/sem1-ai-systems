{
 "cells": [
  {
   "cell_type": "code",
   "execution_count": null,
   "metadata": {
    "collapsed": true
   },
   "outputs": [],
   "source": [
    "import numpy as np\n",
    "import pandas as pd\n",
    "from keras import Sequential\n",
    "from keras.layers import Dense\n",
    "from keras.optimizers import Adam\n",
    "from keras.utils import plot_model\n",
    "from matplotlib import pyplot as plt\n",
    "from sklearn.datasets import load_iris\n",
    "from sklearn.model_selection import train_test_split, KFold\n",
    "from sklearn.preprocessing import StandardScaler"
   ]
  },
  {
   "cell_type": "code",
   "execution_count": null,
   "outputs": [],
   "source": [
    "data = load_iris()\n",
    "y = data.target\n",
    "X = data.data\n",
    "y = pd.Categorical(y)\n",
    "y = pd.get_dummies(y).values\n",
    "class_num = y.shape[1]"
   ],
   "metadata": {
    "collapsed": false
   }
  },
  {
   "cell_type": "code",
   "execution_count": null,
   "outputs": [],
   "source": [
    "model = Sequential()\n",
    "model.add(Dense(64, input_shape=(X.shape[1],), activation='relu'))\n",
    "model.add(Dense(64, activation='relu'))\n",
    "model.add(Dense(64, activation='relu'))\n",
    "model.add(Dense(class_num, activation='softmax'))"
   ],
   "metadata": {
    "collapsed": false
   }
  },
  {
   "cell_type": "code",
   "execution_count": null,
   "outputs": [],
   "source": [
    "learning_rate = 0.0001\n",
    "model.compile(optimizer=Adam(learning_rate), loss='categorical_crossentropy', metrics='accuracy')\n",
    "model.summary()\n",
    "plot_model(model, to_file=\"my_model.png\")"
   ],
   "metadata": {
    "collapsed": false
   }
  },
  {
   "cell_type": "code",
   "execution_count": null,
   "outputs": [],
   "source": [
    "X_train, X_test, y_train, y_test = train_test_split(X, y, test_size=0.2)\n",
    "scaler = StandardScaler()\n",
    "X_train = scaler.fit_transform(X_train)\n",
    "X_test = scaler.transform(X_test)\n",
    "history = model.fit(X_train, y_train, batch_size=15, epochs=100, validation_data=(X_test, y_test), verbose=2)"
   ],
   "metadata": {
    "collapsed": false
   }
  },
  {
   "cell_type": "code",
   "execution_count": null,
   "outputs": [],
   "source": [
    "historia = model.history.history\n",
    "floss_train = historia['loss']\n",
    "floss_test = historia['val_loss']\n",
    "acc_train = historia['accuracy']\n",
    "acc_test = historia['val_accuracy']\n",
    "fig, ax = plt.subplots(1, 2, figsize=(20, 10))\n",
    "epochs = np.arange(0, 100)\n",
    "ax[0].plot(epochs, floss_train, label='floss_train')\n",
    "ax[0].plot(epochs, floss_test, label='floss_test')\n",
    "ax[0].set_title('Funkcje strat')\n",
    "ax[0].legend()\n",
    "ax[1].set_title('Dokladnosci')\n",
    "ax[1].plot(epochs, acc_train, label='acc_train')\n",
    "ax[1].plot(epochs, acc_test, label='acc_test')\n",
    "ax[1].legend()\n",
    "plt.show()"
   ],
   "metadata": {
    "collapsed": false
   }
  },
  {
   "cell_type": "code",
   "execution_count": null,
   "outputs": [],
   "source": [
    "y_pred = model.predict(X_test)\n",
    "y_pred = np.argmax(y_pred, axis=1)\n",
    "y_test = np.argmax(y_test, axis=1)\n",
    "print(y_pred)\n",
    "print(y_test)\n",
    "print(y_pred == y_test)"
   ],
   "metadata": {
    "collapsed": false
   }
  },
  {
   "cell_type": "code",
   "execution_count": null,
   "outputs": [],
   "source": [
    "X_train, X_test, y_train, y_test = train_test_split(X, y, test_size=0.2)\n",
    "accs = []\n",
    "scaler = StandardScaler()\n",
    "for train_index, test_index in KFold(5).split(X_train):\n",
    "    X_train_cv = X_train[train_index, :]\n",
    "    X_test_cv = X_train[test_index, :]\n",
    "    y_train_cv = y_train[train_index, :]\n",
    "    y_test_cv = y_train[test_index, :]\n",
    "    X_train_cv = scaler.fit_transform(X_train_cv)\n",
    "    X_test_cv = scaler.transform(X_test_cv)\n",
    "    model.fit(X_train, y_train, batch_size=15, epochs=100, validation_data=(X_test, y_test), verbose=2)"
   ],
   "metadata": {
    "collapsed": false
   }
  }
 ],
 "metadata": {
  "kernelspec": {
   "display_name": "Python 3",
   "language": "python",
   "name": "python3"
  },
  "language_info": {
   "codemirror_mode": {
    "name": "ipython",
    "version": 2
   },
   "file_extension": ".py",
   "mimetype": "text/x-python",
   "name": "python",
   "nbconvert_exporter": "python",
   "pygments_lexer": "ipython2",
   "version": "2.7.6"
  }
 },
 "nbformat": 4,
 "nbformat_minor": 0
}
